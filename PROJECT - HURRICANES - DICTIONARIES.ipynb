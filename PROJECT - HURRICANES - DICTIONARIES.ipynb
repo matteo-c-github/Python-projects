{
 "cells": [
  {
   "cell_type": "code",
   "execution_count": 8,
   "metadata": {},
   "outputs": [],
   "source": [
    "#1. These are the lists we are going to use in this project. The data in these lists is real data from hurricanes that have occured in the Americas. \n",
    "\n",
    "# names of hurricanes\n",
    "names = ['Cuba I', 'San Felipe II Okeechobee', 'Bahamas', 'Cuba II', 'CubaBrownsville', 'Tampico', 'Labor Day', 'New England', 'Carol', 'Janet', 'Carla', 'Hattie', 'Beulah', 'Camille', 'Edith', 'Anita', 'David', 'Allen', 'Gilbert', 'Hugo', 'Andrew', 'Mitch', 'Isabel', 'Ivan', 'Emily', 'Katrina', 'Rita', 'Wilma', 'Dean', 'Felix', 'Matthew', 'Irma', 'Maria', 'Michael']\n",
    "\n",
    "# months of hurricanes\n",
    "months = ['October', 'September', 'September', 'November', 'August', 'September', 'September', 'September', 'September', 'September', 'September', 'October', 'September', 'August', 'September', 'September', 'August', 'August', 'September', 'September', 'August', 'October', 'September', 'September', 'July', 'August', 'September', 'October', 'August', 'September', 'October', 'September', 'September', 'October']\n",
    "\n",
    "# years of hurricanes\n",
    "years = [1924, 1928, 1932, 1932, 1933, 1933, 1935, 1938, 1953, 1955, 1961, 1961, 1967, 1969, 1971, 1977, 1979, 1980, 1988, 1989, 1992, 1998, 2003, 2004, 2005, 2005, 2005, 2005, 2007, 2007, 2016, 2017, 2017, 2018]\n",
    "\n",
    "# maximum sustained winds (mph) of hurricanes\n",
    "max_sustained_winds = [165, 160, 160, 175, 160, 160, 185, 160, 160, 175, 175, 160, 160, 175, 160, 175, 175, 190, 185, 160, 175, 180, 165, 165, 160, 175, 180, 185, 175, 175, 165, 180, 175, 160]\n",
    "\n",
    "# areas affected by each hurricane\n",
    "areas_affected = [['Central America', 'Mexico', 'Cuba', 'Florida', 'The Bahamas'], ['Lesser Antilles', 'The Bahamas', 'United States East Coast', 'Atlantic Canada'], ['The Bahamas', 'Northeastern United States'], ['Lesser Antilles', 'Jamaica', 'Cayman Islands', 'Cuba', 'The Bahamas', 'Bermuda'], ['The Bahamas', 'Cuba', 'Florida', 'Texas', 'Tamaulipas'], ['Jamaica', 'Yucatn Peninsula'], ['The Bahamas', 'Florida', 'Georgia', 'The Carolinas', 'Virginia'], ['Southeastern United States', 'Northeastern United States', 'Southwestern Quebec'], ['Bermuda', 'New England', 'Atlantic Canada'], ['Lesser Antilles', 'Central America'], ['Texas', 'Louisiana', 'Midwestern United States'], ['Central America'], ['The Caribbean', 'Mexico', 'Texas'], ['Cuba', 'United States Gulf Coast'], ['The Caribbean', 'Central America', 'Mexico', 'United States Gulf Coast'], ['Mexico'], ['The Caribbean', 'United States East coast'], ['The Caribbean', 'Yucatn Peninsula', 'Mexico', 'South Texas'], ['Jamaica', 'Venezuela', 'Central America', 'Hispaniola', 'Mexico'], ['The Caribbean', 'United States East Coast'], ['The Bahamas', 'Florida', 'United States Gulf Coast'], ['Central America', 'Yucatn Peninsula', 'South Florida'], ['Greater Antilles', 'Bahamas', 'Eastern United States', 'Ontario'], ['The Caribbean', 'Venezuela', 'United States Gulf Coast'], ['Windward Islands', 'Jamaica', 'Mexico', 'Texas'], ['Bahamas', 'United States Gulf Coast'], ['Cuba', 'United States Gulf Coast'], ['Greater Antilles', 'Central America', 'Florida'], ['The Caribbean', 'Central America'], ['Nicaragua', 'Honduras'], ['Antilles', 'Venezuela', 'Colombia', 'United States East Coast', 'Atlantic Canada'], ['Cape Verde', 'The Caribbean', 'British Virgin Islands', 'U.S. Virgin Islands', 'Cuba', 'Florida'], ['Lesser Antilles', 'Virgin Islands', 'Puerto Rico', 'Dominican Republic', 'Turks and Caicos Islands'], ['Central America', 'United States Gulf Coast (especially Florida Panhandle)']]\n",
    "\n",
    "# damages (USD($)) of hurricanes\n",
    "damages = ['Damages not recorded', '100M', 'Damages not recorded', '40M', '27.9M', '5M', 'Damages not recorded', '306M', '2M', '65.8M', '326M', '60.3M', '208M', '1.42B', '25.4M', 'Damages not recorded', '1.54B', '1.24B', '7.1B', '10B', '26.5B', '6.2B', '5.37B', '23.3B', '1.01B', '125B', '12B', '29.4B', '1.76B', '720M', '15.1B', '64.8B', '91.6B', '25.1B']\n",
    "\n",
    "# deaths for each hurricane\n",
    "deaths = [90,4000,16,3103,179,184,408,682,5,1023,43,319,688,259,37,11,2068,269,318,107,65,19325,51,124,17,1836,125,87,45,133,603,138,3057,74]\n",
    "\n"
   ]
  },
  {
   "cell_type": "code",
   "execution_count": 9,
   "metadata": {},
   "outputs": [],
   "source": [
    "#2. Update damages function:\n",
    "\n",
    "# The damages list contains strings with \"Prefix-B/M\", but we want to work only with numbers. This function helps to convert those strings into float values. \n",
    "\n",
    "def update_damages(damages):\n",
    "    updated_damages_lst = []\n",
    "    for damage in damages:\n",
    "        if damage[-1] == 'M':\n",
    "            updated_damages_lst.append(float(damage[:-1])*1000000)\n",
    "        elif damage[-1] == 'B':\n",
    "            updated_damages_lst.append(float(damage[:-1])*1000000000)\n",
    "        else:\n",
    "            updated_damages_lst.append(damage)\n",
    "    return updated_damages_lst\n",
    "\n",
    "updated_damages = update_damages(damages)"
   ]
  },
  {
   "cell_type": "code",
   "execution_count": 21,
   "metadata": {},
   "outputs": [],
   "source": [
    "#3. Construct hurricane dictionary function:\n",
    "\n",
    "# After the conversion in values, we want to create a dictionary made out of the lists, where the keys of the dictionary are the names of the hurricanes, and the values are dictionaries themselves containing a key for each piece of data.\n",
    "\n",
    "def construct_hurricane_dictionary(names, months, years, max_sustained_winds, areas_affected, updated_damages, deaths):\n",
    "    hurricanes = {}\n",
    "    for i in range(len(names)):\n",
    "        hurricanes[names[i]] = {'Name': names[i],\n",
    "                    'Month': months[i],\n",
    "                    'Year': years[i],\n",
    "                    'Max Sustained Wind': max_sustained_winds[i],\n",
    "                    'Areas Affected': areas_affected[i],\n",
    "                    'Damage': updated_damages[i],\n",
    "                    'Deaths': deaths[i]}\n",
    "    return hurricanes\n",
    "\n",
    "hurricanes = (construct_hurricane_dictionary(names, months, years, max_sustained_winds, areas_affected, updated_damages, deaths))\n",
    "#print(hurricanes)"
   ]
  },
  {
   "cell_type": "code",
   "execution_count": 11,
   "metadata": {},
   "outputs": [],
   "source": [
    "#4. Construct hurricane dictionary by year function:\n",
    "\n",
    "# In addition to organizing the hurricanes in a dictionary with names as the key, we want to be able to organize the hurricanes by year.\n",
    "# This function converts the current dictionary of hurricanes to a new dictionary, where the keys are years and the values are lists containing a dictionary for each hurricane that occurred in that year.\n",
    "# Here we are going to use the same structure we used with the previous funtion at point #3.\n",
    "\n",
    "def construct_hurricane_dictionary_by_year(names, months, years, max_sustained_winds, areas_affected, updated_damages, deaths):\n",
    "    hurricanes_by_year = {}\n",
    "    for i in range(len(years)):\n",
    "        hurricanes_by_year[years[i]] = {'Name': names[i],\n",
    "                    'Month': months[i],\n",
    "                    'Year': years[i],\n",
    "                    'Max Sustained Wind': max_sustained_winds[i],\n",
    "                    'Areas Affected': areas_affected[i],\n",
    "                    'Damage': updated_damages[i],\n",
    "                    'Deaths': deaths[i]}\n",
    "    return hurricanes_by_year\n",
    "\n",
    "hurricanes_by_year = (construct_hurricane_dictionary_by_year(names, months, years, max_sustained_winds, areas_affected, updated_damages, deaths))\n",
    "#print(hurricanes_by_year)"
   ]
  },
  {
   "cell_type": "code",
   "execution_count": 12,
   "metadata": {},
   "outputs": [],
   "source": [
    "#4. Construct hurricane dictionary by year function:\n",
    "\n",
    "#4(2) Here is the same function, but made with another method. This time we do not create a dictionary starting from zero, but instead we convert the function at point #2 to get the dictionary organized by year.  \n",
    "\n",
    "# This function iterates through each hurricane in our hurricanes dictionary, and records the year as current_year and the hurricane dictionary as current_cane.\n",
    "#We then check if current_year exists as a key in our new dictionary, and if not, initialize the value for that key [current_cane].\n",
    "#If current_year does exist as a key, current_cane is appended to the list stored in the key.\n",
    "\n",
    "def construct_hurricane_dictionary_by_year2(hurricanes):\n",
    "    hurricanes_by_year = {}\n",
    "    for key, value in hurricanes.items():\n",
    "        current_cane = value\n",
    "        current_year = value['Year']\n",
    "        if current_year not in hurricanes_by_year.keys():\n",
    "            hurricanes_by_year[current_year] = [current_cane]\n",
    "        else:\n",
    "            hurricanes_by_year[current_year].append(current_cane)\n",
    "    return hurricanes_by_year\n",
    "\n",
    "hurricanes_by_year2 = construct_hurricane_dictionary_by_year2(hurricanes)\n",
    "#print(hurricanes_by_year2)"
   ]
  },
  {
   "cell_type": "code",
   "execution_count": 13,
   "metadata": {},
   "outputs": [
    {
     "name": "stdout",
     "output_type": "stream",
     "text": [
      "{'Central America': 9, 'Mexico': 7, 'Cuba': 6, 'Florida': 6, 'The Bahamas': 7, 'Lesser Antilles': 4, 'United States East Coast': 3, 'Atlantic Canada': 3, 'Northeastern United States': 2, 'Jamaica': 4, 'Cayman Islands': 1, 'Bermuda': 2, 'Texas': 4, 'Tamaulipas': 1, 'Yucatn Peninsula': 3, 'Georgia': 1, 'The Carolinas': 1, 'Virginia': 1, 'Southeastern United States': 1, 'Southwestern Quebec': 1, 'New England': 1, 'Louisiana': 1, 'Midwestern United States': 1, 'The Caribbean': 8, 'United States Gulf Coast': 6, 'United States East coast': 1, 'South Texas': 1, 'Venezuela': 3, 'Hispaniola': 1, 'South Florida': 1, 'Greater Antilles': 2, 'Bahamas': 2, 'Eastern United States': 1, 'Ontario': 1, 'Windward Islands': 1, 'Nicaragua': 1, 'Honduras': 1, 'Antilles': 1, 'Colombia': 1, 'Cape Verde': 1, 'British Virgin Islands': 1, 'U.S. Virgin Islands': 1, 'Virgin Islands': 1, 'Puerto Rico': 1, 'Dominican Republic': 1, 'Turks and Caicos Islands': 1, 'United States Gulf Coast (especially Florida Panhandle)': 1}\n"
     ]
    }
   ],
   "source": [
    "#5 Count affected areas function:\n",
    "\n",
    "#The following function that counts how often each area is listed as an affected area of a hurricane. \n",
    "#It stores and returns the results in a dictionary where the keys are the affected areas and the values are counts of how many times the areas were affected.\n",
    "\n",
    "def count_affected_areas(areas_affected):\n",
    "    areas_affected_dict = {}                   #Create an empty dictionary\n",
    "    count = 0                                  #Initially set count to 0\n",
    "    for lst in areas_affected:                 #Start the iteration through the list\n",
    "        for area in lst:         \n",
    "            if area not in areas_affected_dict:\n",
    "                areas_affected_dict[area] = 1     #If the area is not already in the dictionary, set the count to 1   \n",
    "            else:\n",
    "                areas_affected_dict[area] += 1    #If the area is already in the dictionary, add 1 each time it appears in the list\n",
    "    return areas_affected_dict                    #Return the total count\n",
    "\n",
    "count_affected_areas_dict = (count_affected_areas(areas_affected))\n",
    "print(count_affected_areas_dict)"
   ]
  },
  {
   "cell_type": "code",
   "execution_count": 14,
   "metadata": {},
   "outputs": [
    {
     "name": "stdout",
     "output_type": "stream",
     "text": [
      "{'Central America': 9}\n"
     ]
    }
   ],
   "source": [
    "#6. Most affected area function:\n",
    "\n",
    "#Now that we have the dictionary that stores the count for each affected areas, we can easily find the most affected area, which is the area with the highest count value.\n",
    "\n",
    "def find_most_affected_area(count_affected_areas_dict):\n",
    "    frequency = 0                                                   #Set inititally frequency to 0\n",
    "    for area, value in count_affected_areas_dict.items():           #Iterate through the dictionary using the dictionary.items() statement. In this way we get both the key and the value of the dictionary.\n",
    "        if value > frequency:                                       #For every time that a value is greater than the previous value:\n",
    "            frequency = value                                       #The new value becomes the the highest frequency,\n",
    "            most_affected_area = area                               #and the area becomes the most affected area\n",
    "    return {most_affected_area:frequency}\n",
    "\n",
    "most_affected_area = (find_most_affected_area(count_affected_areas_dict))\n",
    "print(most_affected_area)"
   ]
  },
  {
   "cell_type": "code",
   "execution_count": 15,
   "metadata": {},
   "outputs": [
    {
     "name": "stdout",
     "output_type": "stream",
     "text": [
      "{'Mitch': 19325}\n"
     ]
    }
   ],
   "source": [
    "#7. Greatest number of deaths:\n",
    "\n",
    "#The structure used here is the same as the structure used in the previous function, with the only difference that instead of splitting the function in two parts we go immediately for the highest value.\n",
    "#This is made possible by simply specifying the value of the key between square brackets.\n",
    "\n",
    "def greatest_number_of_deaths(hurricanes):\n",
    "    highest_deaths = 0\n",
    "    for name, hurr_dict in hurricanes.items():\n",
    "        if hurr_dict['Deaths'] > highest_deaths:\n",
    "            highest_deaths = hurr_dict['Deaths']\n",
    "            hurr_name = name\n",
    "    return {hurr_name:highest_deaths}\n",
    "\n",
    "most_deadly_hurricane = greatest_number_of_deaths(hurricanes)\n",
    "print(most_deadly_hurricane)"
   ]
  },
  {
   "cell_type": "code",
   "execution_count": 16,
   "metadata": {},
   "outputs": [
    {
     "name": "stdout",
     "output_type": "stream",
     "text": [
      "{0: [], 1: ['Cuba I', 'Bahamas', 'Carol', 'Carla', 'Edith', 'Anita', 'Andrew', 'Isabel', 'Emily', 'Wilma', 'Dean', 'Michael'], 2: ['CubaBrownsville', 'Tampico', 'Labor Day', 'Hattie', 'Camille', 'Allen', 'Gilbert', 'Hugo', 'Ivan', 'Rita', 'Felix', 'Irma'], 3: ['New England', 'Beulah', 'Matthew'], 4: ['San Felipe II Okeechobee', 'Cuba II', 'Janet', 'David', 'Katrina', 'Maria'], 5: ['Mitch']}\n"
     ]
    }
   ],
   "source": [
    "#8. Categorize by mortality function:\n",
    "\n",
    "#The categorize_by_mortality function creates a dictionary where the keys are mortality ratings and the values are lists containing a dictionary for each hurricane that falls into that mortality rating.\n",
    "\n",
    "def mortality_rate_dict():                                #First we need another dictionary that rates hurricanes on a mortality scale according to the following ratings.\n",
    "    return {0: 0, 1: 100, 2: 500, 3: 1000, 4: 10000,}\n",
    "\n",
    "mortality_scale = mortality_rate_dict()\n",
    "\n",
    "def categorize_by_mortality(hurricanes):                        #Then we can create the main function which takes the hurricanes dictionary (point #3) as input\n",
    "    hurricanes_by_mortality = {0:[],1:[],2:[],3:[],4:[],5:[]}   #Next step is create a dictionary which stores the mortality scale. Then we need to iterate through the hurricanes dictionary.\n",
    "    for key, value in hurricanes.items():                       #Through a series of conditional statements we are able to look inside the dictionary and append the information in the right slot.\n",
    "        for rating, deaths in mortality_scale.items():\n",
    "            if value['Deaths'] == 0 and key not in hurricanes_by_mortality[0]:\n",
    "                hurricanes_by_mortality[0].append(key)\n",
    "            elif value['Deaths'] > 0 and value['Deaths'] <= 100 and key not in hurricanes_by_mortality[1]:\n",
    "                hurricanes_by_mortality[1].append(key)\n",
    "            elif value['Deaths'] > 100 and value['Deaths'] <= 500 and key not in hurricanes_by_mortality[2]:\n",
    "                hurricanes_by_mortality[2].append(key)\n",
    "            elif value['Deaths'] > 500 and value['Deaths'] <= 1000 and key not in hurricanes_by_mortality[3]:\n",
    "                hurricanes_by_mortality[3].append(key)\n",
    "            elif value['Deaths'] > 1000 and value['Deaths'] <= 10000 and key not in hurricanes_by_mortality[4]:\n",
    "                hurricanes_by_mortality[4].append(key)\n",
    "            elif value['Deaths'] > 10000 and key not in hurricanes_by_mortality[5]:\n",
    "                hurricanes_by_mortality[5].append(key)\n",
    "    return hurricanes_by_mortality\n",
    "\n",
    "mortality_rating_scale = (categorize_by_mortality(hurricanes))\n",
    "print(mortality_rating_scale)"
   ]
  },
  {
   "cell_type": "code",
   "execution_count": 17,
   "metadata": {},
   "outputs": [],
   "source": [
    "#8.2. Categorize by mortality function(2)\n",
    "\n",
    "#This is the same as the previous \"categorize by mortality function\" but with a little difference: instead of returning just the name of the hurricane, this version returns the entire hurricane's dictionary  \n",
    "#The only difference is that rather than appending the key this time we append the value(the entire dictionary)\n",
    "\n",
    "def mortality_rate_dict2():\n",
    "    return {0: 0, 1: 100, 2: 500, 3: 1000, 4: 10000,}\n",
    "\n",
    "mortality_scale = mortality_rate_dict()\n",
    "\n",
    "def categorize_by_mortality2(hurricanes):\n",
    "    hurricanes_by_mortality = {0:[],1:[],2:[],3:[],4:[],5:[]}\n",
    "    for key, value in hurricanes.items():\n",
    "        for rating, deaths in mortality_scale.items():\n",
    "            if value['Deaths'] == 0 and key not in hurricanes_by_mortality[0]:\n",
    "                hurricanes_by_mortality[0].append(key)\n",
    "            elif value['Deaths'] > 0 and value['Deaths'] <= 100 and key not in hurricanes_by_mortality[1]:\n",
    "                hurricanes_by_mortality[1].append(value)\n",
    "            elif value['Deaths'] > 100 and value['Deaths'] <= 500 and key not in hurricanes_by_mortality[2]:\n",
    "                hurricanes_by_mortality[2].append(value)\n",
    "            elif value['Deaths'] > 500 and value['Deaths'] <= 1000 and key not in hurricanes_by_mortality[3]:\n",
    "                hurricanes_by_mortality[3].append(value)\n",
    "            elif value['Deaths'] > 1000 and value['Deaths'] <= 10000 and key not in hurricanes_by_mortality[4]:\n",
    "                hurricanes_by_mortality[4].append(value)\n",
    "            elif value['Deaths'] > 10000 and key not in hurricanes_by_mortality[5]:\n",
    "                hurricanes_by_mortality[5].append(value)\n",
    "    return hurricanes_by_mortality\n",
    "\n",
    "mortality_rating_scale2 = (categorize_by_mortality2(hurricanes))\n",
    "#print(mortality_rating_scale2)"
   ]
  },
  {
   "cell_type": "code",
   "execution_count": 18,
   "metadata": {},
   "outputs": [
    {
     "name": "stdout",
     "output_type": "stream",
     "text": [
      "{'Katrina': 125000000000.0}\n"
     ]
    }
   ],
   "source": [
    "#9. Greatest damages function.\n",
    "\n",
    "#We are searching for the hurricane that caused the biggest damages. The structure used is the same as the structure used at point #7.\n",
    "\n",
    "def greatest_damages_func(hurricanes):\n",
    "    greatest_damage = 0\n",
    "    for key, value in hurricanes.items():\n",
    "        if value['Damage'] != 'Damages not recorded' and value['Damage'] > greatest_damage:\n",
    "            greatest_damage = value['Damage']\n",
    "            hurr_name = key\n",
    "    return {hurr_name:greatest_damage}\n",
    "\n",
    "greatest_damages = greatest_damages_func(hurricanes)\n",
    "print(greatest_damages)"
   ]
  },
  {
   "cell_type": "code",
   "execution_count": 19,
   "metadata": {},
   "outputs": [],
   "source": [
    "#10. Categorize by damage function:\n",
    "\n",
    "#If in the point #8 and #8.2 we have categorized the hurricanes by number of deaths, here we are categorizing according to the damage value.\n",
    "#This time we need to pay attention to the string 'Damages not recorded' which cannot be compared to a number.\n",
    "#To avoid an error, we have to specify that the value must be not be a string (!=). If is a string (or 'Damages not recorded'), do not compare it, but instead append it immediately to the 'Damages not recorded' slot.\n",
    "\n",
    "\n",
    "def damage_scale_fun():\n",
    "    return {0: 0, 1: 100000000, 2: 1000000000, 3: 10000000000, 4: 50000000000, 'Not recorded': 'Damages not recorded'}\n",
    "\n",
    "damage_scale = damage_scale_fun()\n",
    "\n",
    "def categorize_by_damage(hurricanes):\n",
    "    hurricanes_and_damages = {0:[], 1:[], 2:[], 3:[], 4:[], 5:[], 'Damages not recorded': []}\n",
    "    for key, value in hurricanes.items():\n",
    "        for rating, damage in damage_scale.items():\n",
    "            if value['Damage'] == 'Damages not recorded' and key not in hurricanes_and_damages['Damages not recorded']:\n",
    "                hurricanes_and_damages['Damages not recorded'].append(value)\n",
    "            elif value['Damage'] != 'Damages not recorded' and value['Damage'] == 0 and key not in hurricanes_and_damages[0]:\n",
    "                hurricanes_and_damages[0].append(value)\n",
    "            elif value['Damage'] != 'Damages not recorded' and value['Damage'] > 0 and value['Damage'] <= 100000000 and key not in hurricanes_and_damages[1]:\n",
    "                hurricanes_and_damages[1].append(value)\n",
    "            elif value['Damage'] != 'Damages not recorded' and value['Damage'] > 100000000 and value['Damage'] <= 1000000000 and key not in hurricanes_and_damages[2]:\n",
    "                hurricanes_and_damages[2].append(value)\n",
    "            elif value['Damage'] != 'Damages not recorded' and value['Damage'] > 1000000000 and value['Damage'] <= 10000000000 and key not in hurricanes_and_damages[3]:\n",
    "                hurricanes_and_damages[3].append(value)\n",
    "            elif value['Damage'] != 'Damages not recorded' and value['Damage'] > 10000000000 and value['Damage'] <= 50000000000 and key not in hurricanes_and_damages[4]:\n",
    "                hurricanes_and_damages[4].append(value)\n",
    "            elif value['Damage'] != 'Damages not recorded' and value['Damage'] > 50000000000 and key not in hurricanes_and_damages[5]:\n",
    "                hurricanes_and_damages[5].append(value)\n",
    "    return hurricanes_and_damages\n",
    "\n",
    "hurricanes_by_damages = categorize_by_damage(hurricanes)\n",
    "#print(hurricanes_by_damages)"
   ]
  },
  {
   "cell_type": "code",
   "execution_count": 23,
   "metadata": {},
   "outputs": [
    {
     "name": "stdout",
     "output_type": "stream",
     "text": [
      "{0: [], 1: ['San Felipe II Okeechobee', 'Cuba II', 'CubaBrownsville', 'Tampico', 'Carol', 'Janet', 'Hattie', 'Edith'], 2: ['New England', 'Carla', 'Beulah', 'Felix'], 3: ['Camille', 'David', 'Allen', 'Gilbert', 'Hugo', 'Mitch', 'Isabel', 'Emily', 'Dean'], 4: ['Andrew', 'Ivan', 'Rita', 'Wilma', 'Matthew', 'Michael'], 5: ['Katrina', 'Irma', 'Maria'], 'Damages not recorded': ['Cuba I', 'Bahamas', 'Labor Day', 'Anita']}\n"
     ]
    }
   ],
   "source": [
    "#10.2. Categorize by damage function(2):\n",
    "\n",
    "#This function is the replica of the previous function (point #10), but instead of returning all the elements as value it returns only the hurricane's name\n",
    "\n",
    "\n",
    "def damage_scale_fun2():\n",
    "    return {0: 0, 1: 100000000, 2: 1000000000, 3: 10000000000, 4: 50000000000, 'Not recorded': 'Damages not recorded'}\n",
    "\n",
    "damage_scale2 = damage_scale_fun2()\n",
    "\n",
    "def categorize_by_damage2(hurricanes):\n",
    "    hurricanes_and_damages = {0:[], 1:[], 2:[], 3:[], 4:[], 5:[], 'Damages not recorded': []}\n",
    "    for key, value in hurricanes.items():\n",
    "        for rating, damage in damage_scale2.items():\n",
    "            if value['Damage'] == 'Damages not recorded' and key not in hurricanes_and_damages['Damages not recorded']:\n",
    "                hurricanes_and_damages['Damages not recorded'].append(key)\n",
    "            elif value['Damage'] != 'Damages not recorded' and value['Damage'] == 0 and key not in hurricanes_and_damages[0]:\n",
    "                hurricanes_and_damages[0].append(key)\n",
    "            elif value['Damage'] != 'Damages not recorded' and value['Damage'] > 0 and value['Damage'] <= 100000000 and key not in hurricanes_and_damages[1]:\n",
    "                hurricanes_and_damages[1].append(key)\n",
    "            elif value['Damage'] != 'Damages not recorded' and value['Damage'] > 100000000 and value['Damage'] <= 1000000000 and key not in hurricanes_and_damages[2]:\n",
    "                hurricanes_and_damages[2].append(key)\n",
    "            elif value['Damage'] != 'Damages not recorded' and value['Damage'] > 1000000000 and value['Damage'] <= 10000000000 and key not in hurricanes_and_damages[3]:\n",
    "                hurricanes_and_damages[3].append(key)\n",
    "            elif value['Damage'] != 'Damages not recorded' and value['Damage'] > 10000000000 and value['Damage'] <= 50000000000 and key not in hurricanes_and_damages[4]:\n",
    "                hurricanes_and_damages[4].append(key)\n",
    "            elif value['Damage'] != 'Damages not recorded' and value['Damage'] > 50000000000 and key not in hurricanes_and_damages[5]:\n",
    "                hurricanes_and_damages[5].append(key)\n",
    "    return hurricanes_and_damages\n",
    "\n",
    "hurricanes_by_damages2 = categorize_by_damage2(hurricanes)\n",
    "print(hurricanes_by_damages2)"
   ]
  },
  {
   "cell_type": "code",
   "execution_count": null,
   "metadata": {},
   "outputs": [],
   "source": []
  }
 ],
 "metadata": {
  "kernelspec": {
   "display_name": "Python 3",
   "language": "python",
   "name": "python3"
  },
  "language_info": {
   "codemirror_mode": {
    "name": "ipython",
    "version": 3
   },
   "file_extension": ".py",
   "mimetype": "text/x-python",
   "name": "python",
   "nbconvert_exporter": "python",
   "pygments_lexer": "ipython3",
   "version": "3.7.6"
  }
 },
 "nbformat": 4,
 "nbformat_minor": 4
}
