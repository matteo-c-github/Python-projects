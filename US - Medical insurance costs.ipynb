{
 "cells": [
  {
   "cell_type": "markdown",
   "metadata": {},
   "source": [
    "# U.S. Medical Insurance Costs"
   ]
  },
  {
   "cell_type": "code",
   "execution_count": 1,
   "metadata": {},
   "outputs": [],
   "source": [
    "#In this project, we are going to analyze the medical insurance costs in the US.\n",
    "#The main purposes of the analysis are: \n",
    "#   -estimatation of insurance costs and the impact that different factors have on them \n",
    "#   -comparison between these estimates with the actual insurance costs\n",
    "\n",
    "#As first step, we want to extract data from a csv and turn it into a dictionary:\n",
    "\n",
    "import csv\n",
    "\n",
    "def csv_to_list(filename):\n",
    "    insurance_list = []\n",
    "    with open(filename, newline = '') as insurance_csv:\n",
    "        insurance_dict_reader = csv.DictReader(insurance_csv)    #csv.DictReader() allows us to convert each line of the csv in a dictionary\n",
    "        for row in insurance_dict_reader:\n",
    "            insurance_list.append(dict(row))\n",
    "    return insurance_list\n",
    "insurance_list = csv_to_list('insurance.csv')\n",
    "#print(insurance_list)\n"
   ]
  },
  {
   "cell_type": "code",
   "execution_count": 2,
   "metadata": {},
   "outputs": [],
   "source": [
    "#Analysis key points:\n",
    "\n",
    "#1. Average insurance cost --> call: average_medical_insurance_cost(csv_to_list)\n",
    "\n",
    "#2. Average insurance cost by category(smoker vs non-smoker)  --> call: average_medical_insurance_cost_by_category(csv_to_list)\n",
    "\n",
    "#3. Average insurance cost % change across age classes      --> call: avg_insurance_by_age_classes(csv_to_list)\n",
    "    #3.1 Average insurance cost % change across age classes (non-smoker only) --> call: avg_insurance_by_age_classes_non_smokers(csv_to_list)\n",
    "    #3.2 Average insurance cost % change across age classes (smoker only)     --> call: avg_insurance_by_age_classes_smokers(csv_to_list)\n",
    "\n",
    "#4. Smoke impact by age class  --> call: smoke_impact(avg_insurance_by_age_classes_smokers(csv_to_list), avg_insurance_by_age_classes_non_smokers(csv_to_list))\n",
    "\n",
    "#5. Age impact:    \n",
    "    #5.1 Age impact for non-smokers  --> call: age_impact_for_non_smokers(avg_insurance_by_age_classes_non_smokers(csv_to_list))\n",
    "    #5.2 Age impact for smokers  --> call: age_impact_for_smokers(avg_insurance_by_age_classes_non_smokers(csv_to_list))\n",
    "\n",
    "#6. Average insurance cost by region (non-smoker only) --> call: \n",
    "\n",
    "#7. Percentage of people with bmi in a healty range\n",
    "\n",
    "#8. BMI impact (non-smoker only)\n",
    "\n",
    "#9. Percentage of smokers"
   ]
  },
  {
   "cell_type": "code",
   "execution_count": 3,
   "metadata": {},
   "outputs": [],
   "source": [
    "#Formula to estimate the insurance cost:\n",
    "#estimated_insurance_cost = 250*age - 128*sex + 370*bmi + 425*num_of_children + 24000*smoker - 12500"
   ]
  },
  {
   "cell_type": "code",
   "execution_count": 4,
   "metadata": {},
   "outputs": [],
   "source": [
    "#1. Average insurance cost (actual)\n",
    "\n",
    "def average_medical_insurance_cost(lst):\n",
    "    total_insurance_cost = 0\n",
    "\n",
    "    for dictionary in insurance_list:\n",
    "        total_insurance_cost += float(dictionary['charges'])\n",
    "\n",
    "    population = 0\n",
    "\n",
    "    for dictionary in insurance_list:\n",
    "        population += 1\n",
    "\n",
    "    average_cost = total_insurance_cost/population\n",
    "    print(\"The average yearly medical insurance cost in the US is: $\" + str(round(average_cost,2)))\n"
   ]
  },
  {
   "cell_type": "code",
   "execution_count": 5,
   "metadata": {},
   "outputs": [
    {
     "name": "stdout",
     "output_type": "stream",
     "text": [
      "The average yearly medical insurance cost in the US is: $13270.42\n"
     ]
    }
   ],
   "source": [
    "average_medical_insurance_cost(csv_to_list)"
   ]
  },
  {
   "cell_type": "code",
   "execution_count": 6,
   "metadata": {},
   "outputs": [],
   "source": [
    "#2.1. Average insurance cost by category (smoker vs non-smoker) - 20 y.o.\n",
    "\n",
    "def average_medical_insurance_cost_by_category(lst):\n",
    "    smokers_list = []\n",
    "    for dictionary in insurance_list:\n",
    "        if dictionary['smoker'] == 'yes':\n",
    "            smokers_list.append(dictionary)\n",
    "\n",
    "    non_smokers_list = []\n",
    "    for dictionary in insurance_list:\n",
    "        if dictionary['smoker'] == 'no':\n",
    "            non_smokers_list.append(dictionary)\n",
    "    \n",
    "    smoker_dict = {}\n",
    "    non_smoker_dict = {}\n",
    "    for non_smoker in non_smokers_list:\n",
    "        for smoker in smokers_list:\n",
    "            if 17 < float(non_smoker['age']) <=20 and 17 < float(smoker['age']) <=20 and non_smoker['sex'] == smoker['sex'] and non_smoker['children'] == smoker['children'] and non_smoker['region'] == smoker['region'] and 22 < float(non_smoker['bmi']) <= 24 and 22 < float(smoker['bmi']) <= 24:\n",
    "                smoker_dict.update(smoker)\n",
    "                non_smoker_dict.update(non_smoker)\n",
    "    smoke_impact = {'difference':[float(smoker_dict['charges'])-float(non_smoker_dict['charges']), 100.0*float(smoker_dict['charges'])/float(non_smoker_dict['charges'])-1] for key, value in smoker_dict.items()}\n",
    "    print({'smoker':smoker_dict})\n",
    "    print({'non-smoker':non_smoker_dict})\n",
    "    for key, value in smoke_impact.items():\n",
    "        print('The smoke impact over the medical insurance cost of a 20 y.o. is $:' +str(round(value[0],2)) +  ' or +' + str(round(value[1],2)) +'%.')\n",
    "    "
   ]
  },
  {
   "cell_type": "code",
   "execution_count": 7,
   "metadata": {},
   "outputs": [
    {
     "name": "stdout",
     "output_type": "stream",
     "text": [
      "{'smoker': {'age': '20', 'sex': 'female', 'bmi': '22.42', 'children': '0', 'smoker': 'yes', 'region': 'northwest', 'charges': '14711.7438'}}\n",
      "{'non-smoker': {'age': '19', 'sex': 'female', 'bmi': '22.515', 'children': '0', 'smoker': 'no', 'region': 'northwest', 'charges': '2117.33885'}}\n",
      "The smoke impact over the medical insurance cost of a 20 y.o. is $:12594.4 or +693.82%.\n"
     ]
    }
   ],
   "source": [
    "average_medical_insurance_cost_by_category(csv_to_list)"
   ]
  },
  {
   "cell_type": "code",
   "execution_count": 8,
   "metadata": {},
   "outputs": [],
   "source": [
    "#2.2. Average insurance cost by category (smoker vs non-smoker) - 40 y.o.\n",
    "\n",
    "def average_medical_insurance_cost_by_category(lst):\n",
    "    smokers_list = []\n",
    "    for dictionary in insurance_list:\n",
    "        if dictionary['smoker'] == 'yes':\n",
    "            smokers_list.append(dictionary)\n",
    "\n",
    "    non_smokers_list = []\n",
    "    for dictionary in insurance_list:\n",
    "        if dictionary['smoker'] == 'no':\n",
    "            non_smokers_list.append(dictionary)\n",
    "    \n",
    "    smoker_dict = {}\n",
    "    non_smoker_dict = {}\n",
    "    for non_smoker in non_smokers_list:\n",
    "        for smoker in smokers_list:\n",
    "            if 39 < float(non_smoker['age']) <=45 and 39 < float(smoker['age']) <=45 and non_smoker['sex'] == smoker['sex'] and non_smoker['children'] == smoker['children'] and non_smoker['region'] == smoker['region'] and 25 < float(non_smoker['bmi']) <= 27 and 25 < float(smoker['bmi']) <= 27:\n",
    "                smoker_dict.update(smoker)\n",
    "                non_smoker_dict.update(non_smoker)\n",
    "    smoke_impact = {'difference':[float(smoker_dict['charges'])-float(non_smoker_dict['charges']), 100.0*float(smoker_dict['charges'])/float(non_smoker_dict['charges'])-1] for key, value in smoker_dict.items()}\n",
    "    print({'smoker':smoker_dict})\n",
    "    print({'non-smoker':non_smoker_dict})\n",
    "    for key, value in smoke_impact.items():\n",
    "        print('The smoke impact over the medical insurance cost of a 44 y.o. is $:' +str(round(value[0],2)) +  ' or +' + str(round(value[1],2)) +'%.')\n",
    "    "
   ]
  },
  {
   "cell_type": "code",
   "execution_count": 9,
   "metadata": {},
   "outputs": [
    {
     "name": "stdout",
     "output_type": "stream",
     "text": [
      "{'smoker': {'age': '43', 'sex': 'female', 'bmi': '26.885', 'children': '0', 'smoker': 'yes', 'region': 'northwest', 'charges': '21774.32215'}}\n",
      "{'non-smoker': {'age': '44', 'sex': 'female', 'bmi': '26.41', 'children': '0', 'smoker': 'no', 'region': 'northwest', 'charges': '7419.4779'}}\n",
      "The smoke impact over the medical insurance cost of a 44 y.o. is $:14354.84 or +292.48%.\n"
     ]
    }
   ],
   "source": [
    "average_medical_insurance_cost_by_category(csv_to_list)"
   ]
  },
  {
   "cell_type": "code",
   "execution_count": 10,
   "metadata": {},
   "outputs": [],
   "source": [
    "#2.3. Average insurance cost by category (smoker vs non-smoker) - 50 y.o.\n",
    "\n",
    "def average_medical_insurance_cost_by_category(lst):\n",
    "    smokers_list = []\n",
    "    for dictionary in insurance_list:\n",
    "        if dictionary['smoker'] == 'yes':\n",
    "            smokers_list.append(dictionary)\n",
    "\n",
    "    non_smokers_list = []\n",
    "    for dictionary in insurance_list:\n",
    "        if dictionary['smoker'] == 'no':\n",
    "            non_smokers_list.append(dictionary)\n",
    "    \n",
    "    smoker_dict = {}\n",
    "    non_smoker_dict = {}\n",
    "    for non_smoker in non_smokers_list:\n",
    "        for smoker in smokers_list:\n",
    "            if 50 < float(non_smoker['age']) <=53 and 50 < float(smoker['age']) <=53 and non_smoker['sex'] == smoker['sex'] and non_smoker['children'] == smoker['children'] and non_smoker['region'] == smoker['region'] and 27 < float(non_smoker['bmi']) <= 30 and 27 < float(smoker['bmi']) <= 30:\n",
    "                smoker_dict.update(smoker)\n",
    "                non_smoker_dict.update(non_smoker)\n",
    "    smoke_impact = {'difference':[float(smoker_dict['charges'])-float(non_smoker_dict['charges']), 100.0*float(smoker_dict['charges'])/float(non_smoker_dict['charges'])-1] for key, value in smoker_dict.items()}\n",
    "    print({'smoker':smoker_dict})\n",
    "    print({'non-smoker':non_smoker_dict})\n",
    "    for key, value in smoke_impact.items():\n",
    "        print('The smoke impact over the medical insurance cost of a 53 y.o. is $:' +str(round(value[0],2)) +  ' or +' + str(round(value[1],2)) +'%.')\n",
    "    "
   ]
  },
  {
   "cell_type": "code",
   "execution_count": 11,
   "metadata": {},
   "outputs": [
    {
     "name": "stdout",
     "output_type": "stream",
     "text": [
      "{'smoker': {'age': '52', 'sex': 'male', 'bmi': '27.36', 'children': '0', 'smoker': 'yes', 'region': 'northwest', 'charges': '24393.6224'}}\n",
      "{'non-smoker': {'age': '53', 'sex': 'male', 'bmi': '28.88', 'children': '0', 'smoker': 'no', 'region': 'northwest', 'charges': '9869.8102'}}\n",
      "The smoke impact over the medical insurance cost of a 53 y.o. is $:14523.81 or +246.15%.\n"
     ]
    }
   ],
   "source": [
    "average_medical_insurance_cost_by_category(csv_to_list)"
   ]
  },
  {
   "cell_type": "code",
   "execution_count": 12,
   "metadata": {},
   "outputs": [],
   "source": [
    "#Looking at the results on smoke impact, we can say that the medical insurance cost for a smoker is approximately $14000 higher if compared to a non-smoker of the same age,sex and region and with the same bmi and n.of children."
   ]
  },
  {
   "cell_type": "code",
   "execution_count": 13,
   "metadata": {},
   "outputs": [
    {
     "name": "stdout",
     "output_type": "stream",
     "text": [
      "Minimum age: 18\n",
      "Maximum age: 64\n"
     ]
    }
   ],
   "source": [
    "#We want to divide the average insurance cost by age classes, therefore let's look first at what are the minimum and the maximum ages of the population.\n",
    "\n",
    "max_age = 0\n",
    "for dictionary in insurance_list:\n",
    "    if float(dictionary['age']) > max_age:\n",
    "        max_age = int(float(dictionary['age']))\n",
    "\n",
    "min_age = float('inf')\n",
    "for dictionary in insurance_list:\n",
    "    if float(dictionary['age']) < min_age:\n",
    "        min_age = int(float(dictionary['age']))\n",
    "\n",
    "print('Minimum age: ' + str(min_age))\n",
    "print('Maximum age: ' + str(max_age))"
   ]
  },
  {
   "cell_type": "code",
   "execution_count": 14,
   "metadata": {},
   "outputs": [],
   "source": [
    "#3. Average insurance cost % change across age classes\n",
    "\n",
    "def avg_insurance_by_age_classes(lst):\n",
    "    age_classes = {'18-25': [], '26-35': [], '36-45': [], '46-55': [], '56-64': []}\n",
    "    for dictionary in insurance_list:\n",
    "        total_insurance_cost = 0\n",
    "        population = 0\n",
    "        if float(dictionary['age']) >=18 and float(dictionary['age']) <26:\n",
    "            total_insurance_cost += float(dictionary['charges'])\n",
    "            population += 1\n",
    "            average_insurance_cost = total_insurance_cost/population\n",
    "            age_classes['18-25'].append(total_insurance_cost)\n",
    "        elif float(dictionary['age']) >=26 and float(dictionary['age']) <35:\n",
    "            total_insurance_cost += float(dictionary['charges'])\n",
    "            population += 1\n",
    "            average_insurance_cost = total_insurance_cost/population\n",
    "            age_classes['26-35'].append(total_insurance_cost)\n",
    "        elif float(dictionary['age']) >=35 and float(dictionary['age']) <46:\n",
    "            total_insurance_cost += float(dictionary['charges'])\n",
    "            population += 1\n",
    "            average_insurance_cost = total_insurance_cost/population\n",
    "            age_classes['36-45'].append(total_insurance_cost)\n",
    "        elif float(dictionary['age']) >=46 and float(dictionary['age']) <55:\n",
    "            total_insurance_cost += float(dictionary['charges'])\n",
    "            population += 1\n",
    "            average_insurance_cost = total_insurance_cost/population\n",
    "            age_classes['46-55'].append(total_insurance_cost)\n",
    "        elif float(dictionary['age']) >=55 and float(dictionary['age']) <65:\n",
    "            total_insurance_cost += float(dictionary['charges'])\n",
    "            population += 1\n",
    "            average_insurance_cost = total_insurance_cost/population\n",
    "            age_classes['56-64'].append(total_insurance_cost)\n",
    "    \n",
    "    average = {key:round(sum(value)/float(len(value)),2) for key, value in age_classes.items()}\n",
    "\n",
    "    return average"
   ]
  },
  {
   "cell_type": "code",
   "execution_count": 15,
   "metadata": {},
   "outputs": [
    {
     "data": {
      "text/plain": [
       "{'18-25': 9087.02,\n",
       " '26-35': 10411.62,\n",
       " '36-45': 13304.36,\n",
       " '46-55': 15969.0,\n",
       " '56-64': 18513.28}"
      ]
     },
     "execution_count": 15,
     "metadata": {},
     "output_type": "execute_result"
    }
   ],
   "source": [
    "avg_insurance_by_age_classes(csv_to_list)"
   ]
  },
  {
   "cell_type": "code",
   "execution_count": 16,
   "metadata": {},
   "outputs": [],
   "source": [
    "#3.2 Average insurance cost % change between age classes (non-smoker only)\n",
    "\n",
    "def avg_insurance_by_age_classes_non_smokers(lst):\n",
    "    age_classes = {'18-25': [], '26-35': [], '36-45': [], '46-55': [], '56-64': []}\n",
    "    for dictionary in insurance_list:\n",
    "        total_insurance_cost = 0\n",
    "        population = 0\n",
    "        if dictionary['smoker'] == 'no' and float(dictionary['age']) >=18 and float(dictionary['age']) <26:\n",
    "            total_insurance_cost += float(dictionary['charges'])\n",
    "            population += 1\n",
    "            average_insurance_cost = total_insurance_cost/population\n",
    "            age_classes['18-25'].append(total_insurance_cost)\n",
    "        elif dictionary['smoker'] == 'no' and float(dictionary['age']) >=26 and float(dictionary['age']) <35:\n",
    "            total_insurance_cost += float(dictionary['charges'])\n",
    "            population += 1\n",
    "            average_insurance_cost = total_insurance_cost/population\n",
    "            age_classes['26-35'].append(total_insurance_cost)\n",
    "        elif dictionary['smoker'] == 'no' and float(dictionary['age']) >=35 and float(dictionary['age']) <46:\n",
    "            total_insurance_cost += float(dictionary['charges'])\n",
    "            population += 1\n",
    "            average_insurance_cost = total_insurance_cost/population\n",
    "            age_classes['36-45'].append(total_insurance_cost)\n",
    "        elif dictionary['smoker'] == 'no' and float(dictionary['age']) >=46 and float(dictionary['age']) <55:\n",
    "            total_insurance_cost += float(dictionary['charges'])\n",
    "            population += 1\n",
    "            average_insurance_cost = total_insurance_cost/population\n",
    "            age_classes['46-55'].append(total_insurance_cost)\n",
    "        elif dictionary['smoker'] == 'no' and float(dictionary['age']) >=55 and float(dictionary['age']) <65:\n",
    "            total_insurance_cost += float(dictionary['charges'])\n",
    "            population += 1\n",
    "            average_insurance_cost = total_insurance_cost/population\n",
    "            age_classes['56-64'].append(total_insurance_cost)\n",
    "    \n",
    "    non_smoker_average = {key:round(sum(value)/float(len(value)),2) for key, value in age_classes.items()}\n",
    "\n",
    "    return non_smoker_average"
   ]
  },
  {
   "cell_type": "code",
   "execution_count": 17,
   "metadata": {},
   "outputs": [
    {
     "data": {
      "text/plain": [
       "{'18-25': 4003.92,\n",
       " '26-35': 5659.32,\n",
       " '36-45': 7759.57,\n",
       " '46-55': 11438.35,\n",
       " '56-64': 14064.83}"
      ]
     },
     "execution_count": 17,
     "metadata": {},
     "output_type": "execute_result"
    }
   ],
   "source": [
    "avg_insurance_by_age_classes_non_smokers(csv_to_list)"
   ]
  },
  {
   "cell_type": "code",
   "execution_count": 18,
   "metadata": {},
   "outputs": [],
   "source": [
    "#3.3 Average insurance cost % change between age classes (smoker only)\n",
    "\n",
    "def avg_insurance_by_age_classes_smokers(lst):\n",
    "    age_classes = {'18-25': [], '26-35': [], '36-45': [], '46-55': [], '56-64': []}\n",
    "    for dictionary in insurance_list:\n",
    "        total_insurance_cost = 0\n",
    "        population = 0\n",
    "        if dictionary['smoker'] == 'yes' and float(dictionary['age']) >=18 and float(dictionary['age']) <26:\n",
    "            total_insurance_cost += float(dictionary['charges'])\n",
    "            population += 1\n",
    "            average_insurance_cost = total_insurance_cost/population\n",
    "            age_classes['18-25'].append(total_insurance_cost)\n",
    "        elif dictionary['smoker'] == 'yes' and float(dictionary['age']) >=26 and float(dictionary['age']) <35:\n",
    "            total_insurance_cost += float(dictionary['charges'])\n",
    "            population += 1\n",
    "            average_insurance_cost = total_insurance_cost/population\n",
    "            age_classes['26-35'].append(total_insurance_cost)\n",
    "        elif dictionary['smoker'] == 'yes' and float(dictionary['age']) >=35 and float(dictionary['age']) <46:\n",
    "            total_insurance_cost += float(dictionary['charges'])\n",
    "            population += 1\n",
    "            average_insurance_cost = total_insurance_cost/population\n",
    "            age_classes['36-45'].append(total_insurance_cost)\n",
    "        elif dictionary['smoker'] == 'yes' and float(dictionary['age']) >=46 and float(dictionary['age']) <55:\n",
    "            total_insurance_cost += float(dictionary['charges'])\n",
    "            population += 1\n",
    "            average_insurance_cost = total_insurance_cost/population\n",
    "            age_classes['46-55'].append(total_insurance_cost)\n",
    "        elif dictionary['smoker'] == 'yes' and float(dictionary['age']) >=55 and float(dictionary['age']) <65:\n",
    "            total_insurance_cost += float(dictionary['charges'])\n",
    "            population += 1\n",
    "            average_insurance_cost = total_insurance_cost/population\n",
    "            age_classes['56-64'].append(total_insurance_cost)\n",
    "    \n",
    "    smoker_average = {key:round(sum(value)/float(len(value)),2) for key, value in age_classes.items()}\n",
    "\n",
    "    return smoker_average"
   ]
  },
  {
   "cell_type": "code",
   "execution_count": 19,
   "metadata": {},
   "outputs": [
    {
     "data": {
      "text/plain": [
       "{'18-25': 27933.56,\n",
       " '26-35': 28302.63,\n",
       " '36-45': 32039.02,\n",
       " '46-55': 34816.51,\n",
       " '56-64': 39696.37}"
      ]
     },
     "execution_count": 19,
     "metadata": {},
     "output_type": "execute_result"
    }
   ],
   "source": [
    "avg_insurance_by_age_classes_smokers(csv_to_list)"
   ]
  },
  {
   "cell_type": "code",
   "execution_count": 20,
   "metadata": {},
   "outputs": [],
   "source": [
    "#4. Smoke impact by age class\n",
    "\n",
    "def smoke_impact(dict2, dict1):\n",
    "    difference = {key:[dict2[key]-dict1[key], 100.0*dict2[key]/dict1[key]-1] for key, value in dict2.items()}\n",
    "    for key, value in difference.items():\n",
    "        print('Within the age class <' + key + '>, the medical insurance cost is $' + str(round(value[0],2)) + ' higher for the smokers category compared to the non-smokers, or +'+ str(round(value[1],2)) + '%.')"
   ]
  },
  {
   "cell_type": "code",
   "execution_count": 21,
   "metadata": {},
   "outputs": [
    {
     "name": "stdout",
     "output_type": "stream",
     "text": [
      "Within the age class <18-25>, the medical insurance cost is $23929.64 higher for the smokers category compared to the non-smokers, or +696.66%.\n",
      "Within the age class <26-35>, the medical insurance cost is $22643.31 higher for the smokers category compared to the non-smokers, or +499.11%.\n",
      "Within the age class <36-45>, the medical insurance cost is $24279.45 higher for the smokers category compared to the non-smokers, or +411.9%.\n",
      "Within the age class <46-55>, the medical insurance cost is $23378.16 higher for the smokers category compared to the non-smokers, or +303.38%.\n",
      "Within the age class <56-64>, the medical insurance cost is $25631.54 higher for the smokers category compared to the non-smokers, or +281.24%.\n"
     ]
    }
   ],
   "source": [
    "smoke_impact(avg_insurance_by_age_classes_smokers(csv_to_list), avg_insurance_by_age_classes_non_smokers(csv_to_list))"
   ]
  },
  {
   "cell_type": "code",
   "execution_count": 22,
   "metadata": {},
   "outputs": [],
   "source": [
    "#5.1. Age impact for non-smokers:\n",
    "\n",
    "def age_impact_for_non_smokers(dict1):\n",
    "    age_classes = {'18-25': 0, '26-35': 0, '36-45': 0, '46-55': 0,'56-64': 0}\n",
    "    values_list = []\n",
    "    for value in dict1.values():\n",
    "        values_list.append(value)\n",
    "    difference_list = [100.0*j/i-1 for i, j in zip(values_list[:-1], values_list[1:])]    #metodo per fare la differenza tra due valori adiacenti in una lista\n",
    "    difference_list.insert(0, 0)               #list.insert(position, value) mi consente di inserire un valore in una posizione da me indicata (in questo caso valore 0 in posizione 0)\n",
    "    count_difference = 0\n",
    "    for i in difference_list:\n",
    "        count_difference += i\n",
    "    average_difference = count_difference/len(difference_list)\n",
    "    print('On average, every 10 years the medical insurance for a non-smoker person increase by ' + str(round(average_difference,2)) + '%.')"
   ]
  },
  {
   "cell_type": "code",
   "execution_count": 23,
   "metadata": {},
   "outputs": [
    {
     "name": "stdout",
     "output_type": "stream",
     "text": [
      "On average, every 10 years the medical insurance for a non-smoker person increase by 108.97%.\n"
     ]
    }
   ],
   "source": [
    "age_impact_for_non_smokers(avg_insurance_by_age_classes_non_smokers(csv_to_list))"
   ]
  },
  {
   "cell_type": "code",
   "execution_count": 24,
   "metadata": {},
   "outputs": [],
   "source": [
    "#5.2. Age impact for smokers:\n",
    "\n",
    "def age_impact_for_smokers(dict2):\n",
    "    age_classes = {'18-25': 0, '26-35': 0, '36-45': 0, '46-55': 0,'56-64': 0}\n",
    "    values_list = []\n",
    "    for value in dict2.values():\n",
    "        values_list.append(value)\n",
    "    difference_list = [100.0*j/i-1 for i, j in zip(values_list[:-1], values_list[1:])]    #metodo per fare la differenza tra due valori adiacenti in una lista\n",
    "    difference_list.insert(0, 0)               #list.insert(position, value) mi consente di inserire un valore in una posizione da me indicata (in questo caso valore 0 in posizione 0)\n",
    "    count_difference = 0\n",
    "    for i in difference_list:\n",
    "        count_difference += i\n",
    "    average_difference = count_difference/len(difference_list)\n",
    "    print('On average, every 10 years the medical insurance for a smoker person increase by ' + str(round(average_difference,2)) + '%.')"
   ]
  },
  {
   "cell_type": "code",
   "execution_count": 25,
   "metadata": {},
   "outputs": [
    {
     "name": "stdout",
     "output_type": "stream",
     "text": [
      "On average, every 10 years the medical insurance for a smoker person increase by 86.64%.\n"
     ]
    }
   ],
   "source": [
    "age_impact_for_smokers(avg_insurance_by_age_classes_smokers(csv_to_list))"
   ]
  },
  {
   "cell_type": "code",
   "execution_count": 26,
   "metadata": {},
   "outputs": [],
   "source": [
    "#6. Average insurance cost by region (non-smoker only)\n",
    "def avg_insurance_cost_by_region(lst):\n",
    "    regions = []\n",
    "    for dictionary in insurance_list:\n",
    "        for key, value in dictionary.items():\n",
    "            if key == 'region' and dictionary['region'] not in regions:\n",
    "                regions.append(dictionary['region'])\n",
    "    region_dictionary = {region:[] for region in regions}\n",
    "    \n",
    "    for dictionary in insurance_list:\n",
    "        total_insurance_cost = 0\n",
    "        if dictionary['smoker'] == 'no' and dictionary['region'] == 'southwest':\n",
    "            total_insurance_cost += float(dictionary['charges'])\n",
    "            region_dictionary['southwest'].append(total_insurance_cost)\n",
    "        elif dictionary['smoker'] == 'no' and dictionary['region'] == 'southeast':\n",
    "            total_insurance_cost += float(dictionary['charges'])\n",
    "            region_dictionary['southeast'].append(total_insurance_cost)\n",
    "        elif dictionary['smoker'] == 'no' and dictionary['region'] == 'northwest':\n",
    "            total_insurance_cost += float(dictionary['charges'])\n",
    "            region_dictionary['northwest'].append(total_insurance_cost)\n",
    "        elif dictionary['smoker'] == 'no' and dictionary['region'] == 'northeast':\n",
    "            total_insurance_cost += float(dictionary['charges'])\n",
    "            region_dictionary['northeast'].append(total_insurance_cost)\n",
    "    \n",
    "    average_by_region = {key:round(sum(value)/float(len(value)),2) for key, value in region_dictionary.items()}\n",
    "    \n",
    "    highest_average = 0\n",
    "    for region, average in average_by_region.items():\n",
    "        if average > highest_average:\n",
    "            highest_average = average\n",
    "            region_name = region\n",
    "    region_with_highest_average = {region_name:highest_average}\n",
    "    \n",
    "    print('The region with the highest average is <' + region_name + '>, with an average of $' + str(highest_average))\n",
    "    return average_by_region"
   ]
  },
  {
   "cell_type": "code",
   "execution_count": 27,
   "metadata": {},
   "outputs": [
    {
     "name": "stdout",
     "output_type": "stream",
     "text": [
      "The region with the highest average is <northeast>, with an average of $9165.53\n"
     ]
    },
    {
     "data": {
      "text/plain": [
       "{'southwest': 8019.28,\n",
       " 'southeast': 8032.22,\n",
       " 'northwest': 8556.46,\n",
       " 'northeast': 9165.53}"
      ]
     },
     "execution_count": 27,
     "metadata": {},
     "output_type": "execute_result"
    }
   ],
   "source": [
    "avg_insurance_cost_by_region(csv_to_list)"
   ]
  },
  {
   "cell_type": "code",
   "execution_count": 28,
   "metadata": {},
   "outputs": [],
   "source": [
    "#why does the <northeast> have a higher average?\n",
    "#The reason could be:\n",
    "#Older people\n",
    "#Higher BMI\n",
    "#More men than women\n",
    "#A mix of the above reasons\n",
    "\n",
    "#As next step we will need to test these assumptions"
   ]
  },
  {
   "cell_type": "code",
   "execution_count": null,
   "metadata": {},
   "outputs": [],
   "source": []
  }
 ],
 "metadata": {
  "kernelspec": {
   "display_name": "Python 3",
   "language": "python",
   "name": "python3"
  },
  "language_info": {
   "codemirror_mode": {
    "name": "ipython",
    "version": 3
   },
   "file_extension": ".py",
   "mimetype": "text/x-python",
   "name": "python",
   "nbconvert_exporter": "python",
   "pygments_lexer": "ipython3",
   "version": "3.7.6"
  }
 },
 "nbformat": 4,
 "nbformat_minor": 4
}
